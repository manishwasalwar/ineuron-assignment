{
 "cells": [
  {
   "cell_type": "markdown",
   "id": "f3ee2f75",
   "metadata": {},
   "source": [
    "# Assignment 01 Solutions"
   ]
  },
  {
   "cell_type": "markdown",
   "id": "fc55734a",
   "metadata": {},
   "source": [
    "### 1. Write a Python program to print \"Hello Python\"?\n",
    "\n"
   ]
  },
  {
   "cell_type": "code",
   "execution_count": 1,
   "id": "147167db",
   "metadata": {},
   "outputs": [
    {
     "name": "stdout",
     "output_type": "stream",
     "text": [
      "Hello Python\n"
     ]
    }
   ],
   "source": [
    "print('Hello Python')"
   ]
  },
  {
   "cell_type": "markdown",
   "id": "5377531a",
   "metadata": {},
   "source": [
    "### 2. Write a Python program to do arithmetical operations addition and division.?"
   ]
  },
  {
   "cell_type": "code",
   "execution_count": 2,
   "id": "d89a3ded",
   "metadata": {},
   "outputs": [
    {
     "name": "stdout",
     "output_type": "stream",
     "text": [
      "15\n",
      "2.0\n"
     ]
    }
   ],
   "source": [
    "x=10\n",
    "y=5\n",
    "\n",
    "# Addition\n",
    "add=x+y\n",
    "\n",
    "# Division\n",
    "div=x/y\n",
    "\n",
    "print(add)\n",
    "print(div)"
   ]
  },
  {
   "cell_type": "markdown",
   "id": "b8dbf110",
   "metadata": {},
   "source": [
    "### 3. Write a Python program to find the area of a triangle?"
   ]
  },
  {
   "cell_type": "code",
   "execution_count": 3,
   "id": "d89635b3",
   "metadata": {},
   "outputs": [
    {
     "name": "stdout",
     "output_type": "stream",
     "text": [
      "30.0\n"
     ]
    }
   ],
   "source": [
    "base=6\n",
    "height=10\n",
    "# Area of triangle\n",
    "Area=1/2*base*height\n",
    "\n",
    "print(Area)"
   ]
  },
  {
   "cell_type": "markdown",
   "id": "63e10eac",
   "metadata": {},
   "source": [
    "### 4. Write a Python program to swap two variables?"
   ]
  },
  {
   "cell_type": "code",
   "execution_count": 4,
   "id": "1a266c89",
   "metadata": {},
   "outputs": [
    {
     "name": "stdout",
     "output_type": "stream",
     "text": [
      "The value of a 30\n",
      "The value of b 20\n"
     ]
    }
   ],
   "source": [
    "## using third variables\n",
    "a=20\n",
    "b=30\n",
    "#swaping two variable\n",
    "temp=a\n",
    "a=b\n",
    "b=temp\n",
    "print('The value of a',a)\n",
    "print('The value of b',b)"
   ]
  },
  {
   "cell_type": "code",
   "execution_count": 5,
   "id": "e30053b0",
   "metadata": {},
   "outputs": [
    {
     "name": "stdout",
     "output_type": "stream",
     "text": [
      "The value of a 30\n",
      "The value of b 20\n"
     ]
    }
   ],
   "source": [
    "# using without third variables\n",
    "a=20\n",
    "b=30\n",
    "#swaping two variables\n",
    "\n",
    "a,b=b,a\n",
    "print('The value of a',a)\n",
    "print('The value of b',b)\n"
   ]
  },
  {
   "cell_type": "markdown",
   "id": "92c2e989",
   "metadata": {},
   "source": [
    "### 5. Write a Python program to generate a random number?"
   ]
  },
  {
   "cell_type": "code",
   "execution_count": 6,
   "id": "e6322ed4",
   "metadata": {},
   "outputs": [
    {
     "name": "stdout",
     "output_type": "stream",
     "text": [
      "10\n"
     ]
    }
   ],
   "source": [
    "import random\n",
    "print(random.randint(0,100))# range between 0 to 100"
   ]
  },
  {
   "cell_type": "code",
   "execution_count": null,
   "id": "61d46fd6",
   "metadata": {},
   "outputs": [],
   "source": []
  }
 ],
 "metadata": {
  "kernelspec": {
   "display_name": "Python 3 (ipykernel)",
   "language": "python",
   "name": "python3"
  },
  "language_info": {
   "codemirror_mode": {
    "name": "ipython",
    "version": 3
   },
   "file_extension": ".py",
   "mimetype": "text/x-python",
   "name": "python",
   "nbconvert_exporter": "python",
   "pygments_lexer": "ipython3",
   "version": "3.9.13"
  }
 },
 "nbformat": 4,
 "nbformat_minor": 5
}
